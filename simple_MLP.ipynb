{
 "cells": [
  {
   "cell_type": "code",
   "execution_count": 13,
   "id": "ded4d3a2",
   "metadata": {},
   "outputs": [],
   "source": [
    "import numpy as np\n",
    "\n",
    "def identity_function(x):\n",
    "    return x\n",
    "\n",
    "\n",
    "def step_function(x):\n",
    "    y = x > 0\n",
    "    \n",
    "    return y.astype(np.int32)\n",
    "    \n",
    "    \n",
    "def sigmoid(x):\n",
    "    return 1 / (1 + np.exp(-x))\n",
    "\n",
    "\n",
    "def relu(x):\n",
    "    return np.maximum(0, x)\n",
    "\n",
    "\n",
    "def softmax(x):\n",
    "    # to prevent overflow\n",
    "    c = np.max(x)\n",
    "    exp_a = np.exp(x - c)\n",
    "    sum_exp_a = np.sum(exp_a)\n",
    "\n",
    "    return exp_a / sum_exp_a"
   ]
  },
  {
   "cell_type": "code",
   "execution_count": 14,
   "id": "af2b948e",
   "metadata": {},
   "outputs": [
    {
     "name": "stdout",
     "output_type": "stream",
     "text": [
      "[0.40625907 0.59374093]\n"
     ]
    }
   ],
   "source": [
    "class SimpleMLP():\n",
    "    def __init__(self, softmax_out=False):\n",
    "        self.softmax_out = softmax_out\n",
    "        self.network = {}\n",
    "\n",
    "        # first layer\n",
    "        self.network[\"w1\"] = np.array([[0.1, 0.3, 0.5], [0.2, 0.4, 0.6]])\n",
    "        self.network[\"b1\"] = np.array([0.1, 0.2, 0.3])\n",
    "\n",
    "        # second layer\n",
    "        self.network[\"w2\"] = np.array([[0.1, 0.4], [0.2, 0.5], [0.3, 0.6]])\n",
    "        self.network[\"b2\"] = np.array([0.1, 0.2])\n",
    "\n",
    "        # thrid layer\n",
    "        self.network[\"w3\"] = np.array([[0.1, 0.3], [0.2, 0.4]])\n",
    "        self.network[\"b3\"] = np.array([0.1, 0.2])\n",
    "    \n",
    "    def forward(self, x):\n",
    "        w1, w2, w3 = self.network[\"w1\"], self.network[\"w2\"], self.network[\"w3\"]\n",
    "        b1, b2, b3 = self.network[\"b1\"], self.network[\"b2\"], self.network[\"b3\"]\n",
    "        \n",
    "        # (1, 2) X (2, 3) = (1, 3)\n",
    "        a1 = np.dot(x, w1) + b1\n",
    "        z1 = sigmoid(a1)\n",
    "        \n",
    "        # (1, 3) X (3, 2) = (1, 3)\n",
    "        a2 = np.dot(z1, w2) + b2\n",
    "        z2 = sigmoid(a2)\n",
    "\n",
    "        # (1, 3) X (3, 2) = (1, 2)\n",
    "        a3 = np.dot(z2, w3) + b3\n",
    "        if self.softmax_out:\n",
    "            y = softmax(a3)\n",
    "        else:\n",
    "            y = identity_function(a3)\n",
    "            \n",
    "\n",
    "        return y\n",
    "    \n",
    "network = SimpleMLP(softmax_out=True)\n",
    "x = np.array([1.0, 0.5])\n",
    "y = network.forward(x)\n",
    "print(y)"
   ]
  },
  {
   "cell_type": "code",
   "execution_count": null,
   "id": "b6845dc2",
   "metadata": {},
   "outputs": [],
   "source": []
  }
 ],
 "metadata": {
  "kernelspec": {
   "display_name": "Python 3 (ipykernel)",
   "language": "python",
   "name": "python3"
  },
  "language_info": {
   "codemirror_mode": {
    "name": "ipython",
    "version": 3
   },
   "file_extension": ".py",
   "mimetype": "text/x-python",
   "name": "python",
   "nbconvert_exporter": "python",
   "pygments_lexer": "ipython3",
   "version": "3.9.6"
  }
 },
 "nbformat": 4,
 "nbformat_minor": 5
}
